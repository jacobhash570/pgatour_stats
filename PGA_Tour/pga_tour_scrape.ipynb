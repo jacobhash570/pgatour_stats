{
 "cells": [
  {
   "cell_type": "code",
   "execution_count": 184,
   "metadata": {},
   "outputs": [],
   "source": [
    "from splinter import Browser\n",
    "from bs4 import BeautifulSoup as bs\n",
    "import pandas as pd\n",
    "from webdriver_manager.chrome import ChromeDriverManager\n",
    "import requests\n",
    "import pprint"
   ]
  },
  {
   "cell_type": "code",
   "execution_count": 185,
   "metadata": {},
   "outputs": [
    {
     "name": "stderr",
     "output_type": "stream",
     "text": [
      "\n",
      "\n",
      "====== WebDriver manager ======\n",
      "Current google-chrome version is 94.0.4606\n",
      "Get LATEST driver version for 94.0.4606\n",
      "Driver [C:\\Users\\13174\\.wdm\\drivers\\chromedriver\\win32\\94.0.4606.61\\chromedriver.exe] found in cache\n"
     ]
    }
   ],
   "source": [
    "executable_path = {'executable_path': ChromeDriverManager().install()}\n",
    "browser = Browser('chrome', **executable_path, headless=False)"
   ]
  },
  {
   "cell_type": "code",
   "execution_count": 186,
   "metadata": {},
   "outputs": [],
   "source": [
    "url = 'https://www.pgatour.com/stats.html'\n",
    "browser.visit(url)"
   ]
  },
  {
   "cell_type": "code",
   "execution_count": 187,
   "metadata": {},
   "outputs": [],
   "source": [
    "html = browser.html\n",
    "bsoup = bs(html,\"html.parser\")"
   ]
  },
  {
   "cell_type": "code",
   "execution_count": 188,
   "metadata": {},
   "outputs": [],
   "source": [
    "#browser.click_link_by_href \n",
    "#url = 'https://www.pgatour.com/stats/stat.02671.html'"
   ]
  },
  {
   "cell_type": "code",
   "execution_count": 189,
   "metadata": {},
   "outputs": [],
   "source": [
    "# facts_table = pd.read_html(url)\n",
    "# #print(facts_table)\n",
    "# facts_df = facts_table[1]\n",
    "# facts_df.columns = [\"RANK LAST WEEK\", \"RANK LAST WEEK\",\"PLAYER NAME\", \"EVENTS\", \"POINTS\", \"# OF WINS\", \"# OF TOP-10s\", \"POINTS BEHIND LEAD\", \"RESET POINTS\"]\n",
    "# facts_df"
   ]
  },
  {
   "cell_type": "code",
   "execution_count": 190,
   "metadata": {},
   "outputs": [
    {
     "name": "stdout",
     "output_type": "stream",
     "text": [
      "[{'title': 'FedExCup Standings', 'table_url': 'https://www.pgatour.com/stats/stat.02671.html'}, {'title': 'Top 10 Finishes', 'table_url': 'https://www.pgatour.com/stats/stat.138.html'}, {'title': 'Scoring Average', 'table_url': 'https://www.pgatour.com/stats/stat.120.html'}, {'title': 'Driving Distance', 'table_url': 'https://www.pgatour.com/stats/stat.101.html'}, {'title': 'Driving Accuracy Percentage', 'table_url': 'https://www.pgatour.com/stats/stat.102.html'}, {'title': 'Greens in Regulation Percentage', 'table_url': 'https://www.pgatour.com/stats/stat.103.html'}, {'title': 'SG: Tee-to-Green', 'table_url': 'https://www.pgatour.com/stats/stat.02674.html'}, {'title': 'SG: Total', 'table_url': 'https://www.pgatour.com/stats/stat.02675.html'}, {'title': 'SG: Putting', 'table_url': 'https://www.pgatour.com/stats/stat.02564.html'}, {'title': 'Scrambling', 'table_url': 'https://www.pgatour.com/stats/stat.130.html'}]\n"
     ]
    }
   ],
   "source": [
    "results = bsoup.find_all(\"div\", class_=\"module-statistics-overview-table clearfix\")\n",
    "#stats_dict={}\n",
    "table_urls = []\n",
    "for div in results:\n",
    "    link = div.find('div', class_= \"clearfix\")\n",
    "    href = link.find('a')['href']   \n",
    "    table_name = div.find('div', class_= \"table-header\")\n",
    "    title = table_name.find('h3').text.strip('\\n')    \n",
    "#print(href)\n",
    "    table_url = 'https://www.pgatour.com' + href\n",
    "    table_urls.append({\"title\":title, \"table_url\":table_url})\n",
    "print(table_urls)"
   ]
  },
  {
   "cell_type": "code",
   "execution_count": 191,
   "metadata": {},
   "outputs": [
    {
     "data": {
      "text/plain": [
       "[{'title': 'FedExCup Standings',\n",
       "  'table_url': 'https://www.pgatour.com/stats/stat.02671.html'},\n",
       " {'title': 'Top 10 Finishes',\n",
       "  'table_url': 'https://www.pgatour.com/stats/stat.138.html'},\n",
       " {'title': 'Scoring Average',\n",
       "  'table_url': 'https://www.pgatour.com/stats/stat.120.html'},\n",
       " {'title': 'Driving Distance',\n",
       "  'table_url': 'https://www.pgatour.com/stats/stat.101.html'},\n",
       " {'title': 'Driving Accuracy Percentage',\n",
       "  'table_url': 'https://www.pgatour.com/stats/stat.102.html'},\n",
       " {'title': 'Greens in Regulation Percentage',\n",
       "  'table_url': 'https://www.pgatour.com/stats/stat.103.html'},\n",
       " {'title': 'SG: Tee-to-Green',\n",
       "  'table_url': 'https://www.pgatour.com/stats/stat.02674.html'},\n",
       " {'title': 'SG: Total',\n",
       "  'table_url': 'https://www.pgatour.com/stats/stat.02675.html'},\n",
       " {'title': 'SG: Putting',\n",
       "  'table_url': 'https://www.pgatour.com/stats/stat.02564.html'},\n",
       " {'title': 'Scrambling',\n",
       "  'table_url': 'https://www.pgatour.com/stats/stat.130.html'}]"
      ]
     },
     "execution_count": 191,
     "metadata": {},
     "output_type": "execute_result"
    }
   ],
   "source": [
    "table_urls"
   ]
  },
  {
   "cell_type": "code",
   "execution_count": 198,
   "metadata": {},
   "outputs": [],
   "source": [
    "dataframes = []\n",
    "for url in table_urls:    \n",
    "        facts_url = url['table_url']\n",
    "        browser.visit(facts_url)\n",
    "        facts_table = pd.read_html(facts_url,index_col = 0)\n",
    "        facts_df = facts_table[1]\n",
    "        title = url['title']\n",
    "        #facts_df = facts_df.set_index(\"RANK THIS WEEK\")\n",
    "        dataframes.append({\"title\":title,\"dataframe\":facts_df})"
   ]
  },
  {
   "cell_type": "code",
   "execution_count": 199,
   "metadata": {},
   "outputs": [
    {
     "data": {
      "text/plain": [
       "{'title': 'FedExCup Standings',\n",
       " 'dataframe':                RANK LAST WEEK         PLAYER NAME  EVENTS  POINTS  # OF WINS  \\\n",
       " RANK THIS WEEK                                                                 \n",
       " 1                          T1           Sam Burns       2     551          1   \n",
       " 2                         T59          Sungjae Im       2     524          1   \n",
       " 3                          T1            Max Homa       1     500          1   \n",
       " 4                         T38       Matthew Wolff       2     343          0   \n",
       " 5                           3    Maverick McNealy       2     300          0   \n",
       " ...                       ...                 ...     ...     ...        ...   \n",
       " T131                      NaN  Francesco Molinari       1       3          0   \n",
       " T131                      NaN       Brooks Koepka       1       3          0   \n",
       " 133                       108        David Skinns       2       3          0   \n",
       " 134                       NaN     Graeme McDowell       1       3          0   \n",
       " 135                       NaN           Bill Haas       3       3          0   \n",
       " \n",
       "                 # OF TOP-10S  POINTS BEHIND LEAD  RESET POINTS  \n",
       " RANK THIS WEEK                                                  \n",
       " 1                        1.0                   0           NaN  \n",
       " 2                        1.0                  27           NaN  \n",
       " 3                        1.0                  51           NaN  \n",
       " 4                        1.0                 208           NaN  \n",
       " 5                        1.0                 251           NaN  \n",
       " ...                      ...                 ...           ...  \n",
       " T131                     NaN                 548           NaN  \n",
       " T131                     NaN                 548           NaN  \n",
       " 133                      NaN                 548           NaN  \n",
       " 134                      NaN                 548           NaN  \n",
       " 135                      NaN                 548           NaN  \n",
       " \n",
       " [135 rows x 8 columns]}"
      ]
     },
     "execution_count": 199,
     "metadata": {},
     "output_type": "execute_result"
    }
   ],
   "source": [
    "dataframes[0]"
   ]
  },
  {
   "cell_type": "code",
   "execution_count": 93,
   "metadata": {},
   "outputs": [],
   "source": [
    "# tables = []\n",
    "# for urltb in table_urls:\n",
    "#     r = requests.get(urltb)\n",
    "#     #print(r)\n",
    "#     soup = bs(r.content)\n",
    "# #print(soup)\n",
    "#     facts_table = pd.read_html(urltb)\n",
    "# print(facts_table)\n",
    "# #     facts_df = facts_table[1]\n",
    "# #     tables.append(\"title\":title, \"stats_url\":facts_df)\n",
    "    "
   ]
  },
  {
   "cell_type": "code",
   "execution_count": 40,
   "metadata": {},
   "outputs": [
    {
     "data": {
      "text/plain": [
       "0"
      ]
     },
     "execution_count": 40,
     "metadata": {},
     "output_type": "execute_result"
    }
   ],
   "source": [
    "len(tables)"
   ]
  },
  {
   "cell_type": "code",
   "execution_count": 41,
   "metadata": {},
   "outputs": [
    {
     "ename": "IndexError",
     "evalue": "list index out of range",
     "output_type": "error",
     "traceback": [
      "\u001b[1;31m---------------------------------------------------------------------------\u001b[0m",
      "\u001b[1;31mIndexError\u001b[0m                                Traceback (most recent call last)",
      "\u001b[1;32m<ipython-input-41-cba3ff33fb11>\u001b[0m in \u001b[0;36m<module>\u001b[1;34m\u001b[0m\n\u001b[1;32m----> 1\u001b[1;33m \u001b[0mtables\u001b[0m\u001b[1;33m[\u001b[0m\u001b[1;36m0\u001b[0m\u001b[1;33m]\u001b[0m\u001b[1;33m\u001b[0m\u001b[1;33m\u001b[0m\u001b[0m\n\u001b[0m",
      "\u001b[1;31mIndexError\u001b[0m: list index out of range"
     ]
    }
   ],
   "source": [
    "tables[0]"
   ]
  },
  {
   "cell_type": "code",
   "execution_count": null,
   "metadata": {},
   "outputs": [],
   "source": []
  },
  {
   "cell_type": "code",
   "execution_count": null,
   "metadata": {},
   "outputs": [],
   "source": []
  }
 ],
 "metadata": {
  "kernelspec": {
   "display_name": "Python [conda env:PythonData] *",
   "language": "python",
   "name": "conda-env-PythonData-py"
  },
  "language_info": {
   "codemirror_mode": {
    "name": "ipython",
    "version": 3
   },
   "file_extension": ".py",
   "mimetype": "text/x-python",
   "name": "python",
   "nbconvert_exporter": "python",
   "pygments_lexer": "ipython3",
   "version": "3.8.5"
  }
 },
 "nbformat": 4,
 "nbformat_minor": 4
}
