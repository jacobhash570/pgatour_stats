{
 "cells": [
  {
   "cell_type": "code",
   "execution_count": 120,
   "metadata": {},
   "outputs": [],
   "source": [
    "from splinter import Browser\n",
    "from bs4 import BeautifulSoup as bs\n",
    "import pandas as pd\n",
    "from webdriver_manager.chrome import ChromeDriverManager\n",
    "import requests\n",
    "import pprint"
   ]
  },
  {
   "cell_type": "code",
   "execution_count": 121,
   "metadata": {},
   "outputs": [
    {
     "name": "stderr",
     "output_type": "stream",
     "text": [
      "\n",
      "\n",
      "====== WebDriver manager ======\n",
      "Current google-chrome version is 94.0.4606\n",
      "Get LATEST driver version for 94.0.4606\n",
      "Driver [C:\\Users\\13174\\.wdm\\drivers\\chromedriver\\win32\\94.0.4606.61\\chromedriver.exe] found in cache\n"
     ]
    }
   ],
   "source": [
    "executable_path = {'executable_path': ChromeDriverManager().install()}\n",
    "browser = Browser('chrome', **executable_path, headless=False)"
   ]
  },
  {
   "cell_type": "code",
   "execution_count": 122,
   "metadata": {},
   "outputs": [],
   "source": [
    "url = 'https://www.pgatour.com/stats.html'\n",
    "browser.visit(url)"
   ]
  },
  {
   "cell_type": "code",
   "execution_count": 123,
   "metadata": {},
   "outputs": [],
   "source": [
    "html = browser.html\n",
    "bsoup = bs(html,\"html.parser\")"
   ]
  },
  {
   "cell_type": "code",
   "execution_count": 124,
   "metadata": {},
   "outputs": [],
   "source": [
    "#browser.click_link_by_href \n",
    "#url = 'https://www.pgatour.com/stats/stat.02671.html'"
   ]
  },
  {
   "cell_type": "code",
   "execution_count": 125,
   "metadata": {},
   "outputs": [],
   "source": [
    "# facts_table = pd.read_html(url)\n",
    "# #print(facts_table)\n",
    "# facts_df = facts_table[1]\n",
    "# facts_df.columns = [\"RANK LAST WEEK\", \"RANK LAST WEEK\",\"PLAYER NAME\", \"EVENTS\", \"POINTS\", \"# OF WINS\", \"# OF TOP-10s\", \"POINTS BEHIND LEAD\", \"RESET POINTS\"]\n",
    "# facts_df"
   ]
  },
  {
   "cell_type": "code",
   "execution_count": 126,
   "metadata": {},
   "outputs": [
    {
     "name": "stdout",
     "output_type": "stream",
     "text": [
      "[{'title': 'FedExCup Standings', 'table_url': 'https://www.pgatour.com/stats/stat.02671.html'}, {'title': 'Top 10 Finishes', 'table_url': 'https://www.pgatour.com/stats/stat.138.html'}, {'title': 'Scoring Average', 'table_url': 'https://www.pgatour.com/stats/stat.120.html'}, {'title': 'Driving Distance', 'table_url': 'https://www.pgatour.com/stats/stat.101.html'}, {'title': 'Driving Accuracy Percentage', 'table_url': 'https://www.pgatour.com/stats/stat.102.html'}, {'title': 'Greens in Regulation Percentage', 'table_url': 'https://www.pgatour.com/stats/stat.103.html'}, {'title': 'SG: Tee-to-Green', 'table_url': 'https://www.pgatour.com/stats/stat.02674.html'}, {'title': 'SG: Total', 'table_url': 'https://www.pgatour.com/stats/stat.02675.html'}, {'title': 'SG: Putting', 'table_url': 'https://www.pgatour.com/stats/stat.02564.html'}, {'title': 'Scrambling', 'table_url': 'https://www.pgatour.com/stats/stat.130.html'}]\n"
     ]
    }
   ],
   "source": [
    "results = bsoup.find_all(\"div\", class_=\"module-statistics-overview-table clearfix\")\n",
    "#stats_dict={}\n",
    "table_urls = []\n",
    "for div in results:\n",
    "    link = div.find('div', class_= \"clearfix\")\n",
    "    href = link.find('a')['href']   \n",
    "    table_name = div.find('div', class_= \"table-header\")\n",
    "    title = table_name.find('h3').text.strip('\\n')    \n",
    "#print(href)\n",
    "    table_url = 'https://www.pgatour.com' + href\n",
    "    table_urls.append({\"title\":title, \"table_url\":table_url})\n",
    "print(table_urls)"
   ]
  },
  {
   "cell_type": "code",
   "execution_count": 127,
   "metadata": {},
   "outputs": [
    {
     "data": {
      "text/plain": [
       "[{'title': 'FedExCup Standings',\n",
       "  'table_url': 'https://www.pgatour.com/stats/stat.02671.html'},\n",
       " {'title': 'Top 10 Finishes',\n",
       "  'table_url': 'https://www.pgatour.com/stats/stat.138.html'},\n",
       " {'title': 'Scoring Average',\n",
       "  'table_url': 'https://www.pgatour.com/stats/stat.120.html'},\n",
       " {'title': 'Driving Distance',\n",
       "  'table_url': 'https://www.pgatour.com/stats/stat.101.html'},\n",
       " {'title': 'Driving Accuracy Percentage',\n",
       "  'table_url': 'https://www.pgatour.com/stats/stat.102.html'},\n",
       " {'title': 'Greens in Regulation Percentage',\n",
       "  'table_url': 'https://www.pgatour.com/stats/stat.103.html'},\n",
       " {'title': 'SG: Tee-to-Green',\n",
       "  'table_url': 'https://www.pgatour.com/stats/stat.02674.html'},\n",
       " {'title': 'SG: Total',\n",
       "  'table_url': 'https://www.pgatour.com/stats/stat.02675.html'},\n",
       " {'title': 'SG: Putting',\n",
       "  'table_url': 'https://www.pgatour.com/stats/stat.02564.html'},\n",
       " {'title': 'Scrambling',\n",
       "  'table_url': 'https://www.pgatour.com/stats/stat.130.html'}]"
      ]
     },
     "execution_count": 127,
     "metadata": {},
     "output_type": "execute_result"
    }
   ],
   "source": [
    "table_urls"
   ]
  },
  {
   "cell_type": "code",
   "execution_count": 179,
   "metadata": {},
   "outputs": [],
   "source": [
    "dataframes = []\n",
    "for url in table_urls:    \n",
    "        facts_url = url['table_url']\n",
    "        browser.visit(facts_url)\n",
    "        facts_table = pd.read_html(facts_url)\n",
    "        facts_df = facts_table[1]\n",
    "        title = url['title']\n",
    "        #facts_df = facts_df.set_index(\"RANK THIS WEEK\")\n",
    "        dataframes.append({\"title\":title,\"dataframe\":facts_df})"
   ]
  },
  {
   "cell_type": "code",
   "execution_count": 182,
   "metadata": {},
   "outputs": [
    {
     "data": {
      "text/plain": [
       "{'title': 'Driving Distance',\n",
       " 'dataframe':     RANK THIS WEEK RANK LAST WEEK      PLAYER NAME  ROUNDS   AVG.  \\\n",
       " 0                1              1    Cameron Champ       2  339.5   \n",
       " 1                2              2    Matthew Wolff       8  336.0   \n",
       " 2                3              3  Joseph Bramlett      10  335.4   \n",
       " 3                4            NaN       Harry Hall       4  335.0   \n",
       " 4                5            NaN       Matt Jones       4  330.9   \n",
       " ..             ...            ...              ...     ...    ...   \n",
       " 218            219            187     Cohen Trolio       2  283.8   \n",
       " 219            220            188    Kevin Stadler       4  283.4   \n",
       " 220           T221           T189  Ted Potter, Jr.       2  282.5   \n",
       " 221           T221           T189     Brendon Todd       6  282.5   \n",
       " 222            223            195     Greg Sonnier       2  257.3   \n",
       " \n",
       "      TOTAL DISTANCE  TOTAL DRIVES  \n",
       " 0              1358             4  \n",
       " 1              5376            16  \n",
       " 2              6707            20  \n",
       " 3              2680             8  \n",
       " 4              2647             8  \n",
       " ..              ...           ...  \n",
       " 218            1135             4  \n",
       " 219            2267             8  \n",
       " 220            1130             4  \n",
       " 221            3390            12  \n",
       " 222            1029             4  \n",
       " \n",
       " [223 rows x 7 columns]}"
      ]
     },
     "execution_count": 182,
     "metadata": {},
     "output_type": "execute_result"
    }
   ],
   "source": [
    "dataframes[3]"
   ]
  },
  {
   "cell_type": "code",
   "execution_count": 93,
   "metadata": {},
   "outputs": [],
   "source": [
    "# tables = []\n",
    "# for urltb in table_urls:\n",
    "#     r = requests.get(urltb)\n",
    "#     #print(r)\n",
    "#     soup = bs(r.content)\n",
    "# #print(soup)\n",
    "#     facts_table = pd.read_html(urltb)\n",
    "# print(facts_table)\n",
    "# #     facts_df = facts_table[1]\n",
    "# #     tables.append(\"title\":title, \"stats_url\":facts_df)\n",
    "    "
   ]
  },
  {
   "cell_type": "code",
   "execution_count": 40,
   "metadata": {},
   "outputs": [
    {
     "data": {
      "text/plain": [
       "0"
      ]
     },
     "execution_count": 40,
     "metadata": {},
     "output_type": "execute_result"
    }
   ],
   "source": [
    "len(tables)"
   ]
  },
  {
   "cell_type": "code",
   "execution_count": 41,
   "metadata": {},
   "outputs": [
    {
     "ename": "IndexError",
     "evalue": "list index out of range",
     "output_type": "error",
     "traceback": [
      "\u001b[1;31m---------------------------------------------------------------------------\u001b[0m",
      "\u001b[1;31mIndexError\u001b[0m                                Traceback (most recent call last)",
      "\u001b[1;32m<ipython-input-41-cba3ff33fb11>\u001b[0m in \u001b[0;36m<module>\u001b[1;34m\u001b[0m\n\u001b[1;32m----> 1\u001b[1;33m \u001b[0mtables\u001b[0m\u001b[1;33m[\u001b[0m\u001b[1;36m0\u001b[0m\u001b[1;33m]\u001b[0m\u001b[1;33m\u001b[0m\u001b[1;33m\u001b[0m\u001b[0m\n\u001b[0m",
      "\u001b[1;31mIndexError\u001b[0m: list index out of range"
     ]
    }
   ],
   "source": [
    "tables[0]"
   ]
  },
  {
   "cell_type": "code",
   "execution_count": null,
   "metadata": {},
   "outputs": [],
   "source": []
  },
  {
   "cell_type": "code",
   "execution_count": null,
   "metadata": {},
   "outputs": [],
   "source": []
  }
 ],
 "metadata": {
  "kernelspec": {
   "display_name": "Python [conda env:PythonData] *",
   "language": "python",
   "name": "conda-env-PythonData-py"
  },
  "language_info": {
   "codemirror_mode": {
    "name": "ipython",
    "version": 3
   },
   "file_extension": ".py",
   "mimetype": "text/x-python",
   "name": "python",
   "nbconvert_exporter": "python",
   "pygments_lexer": "ipython3",
   "version": "3.8.5"
  }
 },
 "nbformat": 4,
 "nbformat_minor": 4
}
